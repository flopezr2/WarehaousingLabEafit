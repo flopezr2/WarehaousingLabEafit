{
  "nbformat": 4,
  "nbformat_minor": 0,
  "metadata": {
    "colab": {
      "name": "WarehousingLab",
      "provenance": [],
      "mount_file_id": "1HKJoZ92ntvpavfN_cKSajAFsH2Zy6-P7",
      "authorship_tag": "ABX9TyMb8DZofw/6yB4phuU5w8dz",
      "include_colab_link": true
    },
    "kernelspec": {
      "name": "python3",
      "display_name": "Python 3"
    },
    "language_info": {
      "name": "python"
    }
  },
  "cells": [
    {
      "cell_type": "markdown",
      "metadata": {
        "id": "view-in-github",
        "colab_type": "text"
      },
      "source": [
        "<a href=\"https://colab.research.google.com/github/flopezr2/WarehaousingLabEafit/blob/jueves28102021/WarehousingLab.ipynb\" target=\"_parent\"><img src=\"https://colab.research.google.com/assets/colab-badge.svg\" alt=\"Open In Colab\"/></a>"
      ]
    },
    {
      "cell_type": "code",
      "metadata": {
        "colab": {
          "base_uri": "https://localhost:8080/"
        },
        "id": "7ws1hcNLSPLB",
        "outputId": "e6b5e989-18b1-40c6-90e3-4e13edbc5bc8"
      },
      "source": [
        "pip install pulp"
      ],
      "execution_count": null,
      "outputs": [
        {
          "output_type": "stream",
          "name": "stdout",
          "text": [
            "Collecting pulp\n",
            "  Downloading PuLP-2.5.1-py3-none-any.whl (41.2 MB)\n",
            "\u001b[K     |████████████████████████████████| 41.2 MB 74 kB/s \n",
            "\u001b[?25hInstalling collected packages: pulp\n",
            "Successfully installed pulp-2.5.1\n"
          ]
        }
      ]
    },
    {
      "cell_type": "code",
      "metadata": {
        "id": "pZ8usaQiSUAW"
      },
      "source": [
        "import pulp as pulp\n",
        "import pandas as pd\n",
        "from pulp import *\n",
        "import numpy as np"
      ],
      "execution_count": null,
      "outputs": []
    },
    {
      "cell_type": "code",
      "metadata": {
        "colab": {
          "base_uri": "https://localhost:8080/"
        },
        "id": "Ags_EoZcTdK5",
        "outputId": "217accdd-1439-45d1-9b2a-2eeddf7b3f1e"
      },
      "source": [
        "from google.colab import drive\n",
        "drive.mount('/content/drive/')"
      ],
      "execution_count": null,
      "outputs": [
        {
          "output_type": "stream",
          "name": "stdout",
          "text": [
            "Mounted at /content/drive/\n"
          ]
        }
      ]
    },
    {
      "cell_type": "code",
      "metadata": {
        "id": "r8siu4t-gX4B"
      },
      "source": [
        "\n",
        "datos=pd.read_excel('/content/drive/MyDrive/Prueba_datos.xlsx',header=None,index_col=0)\n"
      ],
      "execution_count": null,
      "outputs": []
    },
    {
      "cell_type": "code",
      "metadata": {
        "id": "fFFwD4WGlh2J"
      },
      "source": [
        "nom_posicion=[]\n",
        "for i in range(1,datos.shape[1]+1):\n",
        "  nombre= ('Pos ' + str(i))\n",
        "  nom_posicion.append(nombre) \n",
        "datos.set_axis(nom_posicion,axis=1,inplace=True)"
      ],
      "execution_count": null,
      "outputs": []
    },
    {
      "cell_type": "code",
      "metadata": {
        "colab": {
          "base_uri": "https://localhost:8080/",
          "height": 235
        },
        "id": "mJUkmF9YmKcZ",
        "outputId": "24803a0b-84b7-4e90-ceb0-14ba24c93613"
      },
      "source": [
        "datos.head()"
      ],
      "execution_count": null,
      "outputs": [
        {
          "output_type": "execute_result",
          "data": {
            "text/html": [
              "<div>\n",
              "<style scoped>\n",
              "    .dataframe tbody tr th:only-of-type {\n",
              "        vertical-align: middle;\n",
              "    }\n",
              "\n",
              "    .dataframe tbody tr th {\n",
              "        vertical-align: top;\n",
              "    }\n",
              "\n",
              "    .dataframe thead th {\n",
              "        text-align: right;\n",
              "    }\n",
              "</style>\n",
              "<table border=\"1\" class=\"dataframe\">\n",
              "  <thead>\n",
              "    <tr style=\"text-align: right;\">\n",
              "      <th></th>\n",
              "      <th>Pos 1</th>\n",
              "      <th>Pos 2</th>\n",
              "      <th>Pos 3</th>\n",
              "      <th>Pos 4</th>\n",
              "      <th>Pos 5</th>\n",
              "      <th>Pos 6</th>\n",
              "      <th>Pos 7</th>\n",
              "      <th>Pos 8</th>\n",
              "      <th>Pos 9</th>\n",
              "      <th>Pos 10</th>\n",
              "    </tr>\n",
              "    <tr>\n",
              "      <th>0</th>\n",
              "      <th></th>\n",
              "      <th></th>\n",
              "      <th></th>\n",
              "      <th></th>\n",
              "      <th></th>\n",
              "      <th></th>\n",
              "      <th></th>\n",
              "      <th></th>\n",
              "      <th></th>\n",
              "      <th></th>\n",
              "    </tr>\n",
              "  </thead>\n",
              "  <tbody>\n",
              "    <tr>\n",
              "      <th>A</th>\n",
              "      <td>0</td>\n",
              "      <td>0</td>\n",
              "      <td>0</td>\n",
              "      <td>1</td>\n",
              "      <td>1</td>\n",
              "      <td>1</td>\n",
              "      <td>0</td>\n",
              "      <td>0</td>\n",
              "      <td>0</td>\n",
              "      <td>0</td>\n",
              "    </tr>\n",
              "    <tr>\n",
              "      <th>B</th>\n",
              "      <td>1</td>\n",
              "      <td>0</td>\n",
              "      <td>0</td>\n",
              "      <td>0</td>\n",
              "      <td>1</td>\n",
              "      <td>0</td>\n",
              "      <td>1</td>\n",
              "      <td>0</td>\n",
              "      <td>1</td>\n",
              "      <td>0</td>\n",
              "    </tr>\n",
              "    <tr>\n",
              "      <th>C</th>\n",
              "      <td>0</td>\n",
              "      <td>0</td>\n",
              "      <td>0</td>\n",
              "      <td>0</td>\n",
              "      <td>1</td>\n",
              "      <td>1</td>\n",
              "      <td>0</td>\n",
              "      <td>0</td>\n",
              "      <td>0</td>\n",
              "      <td>0</td>\n",
              "    </tr>\n",
              "    <tr>\n",
              "      <th>D</th>\n",
              "      <td>1</td>\n",
              "      <td>1</td>\n",
              "      <td>0</td>\n",
              "      <td>0</td>\n",
              "      <td>0</td>\n",
              "      <td>1</td>\n",
              "      <td>1</td>\n",
              "      <td>0</td>\n",
              "      <td>0</td>\n",
              "      <td>1</td>\n",
              "    </tr>\n",
              "    <tr>\n",
              "      <th>E</th>\n",
              "      <td>1</td>\n",
              "      <td>1</td>\n",
              "      <td>0</td>\n",
              "      <td>1</td>\n",
              "      <td>1</td>\n",
              "      <td>0</td>\n",
              "      <td>0</td>\n",
              "      <td>0</td>\n",
              "      <td>1</td>\n",
              "      <td>1</td>\n",
              "    </tr>\n",
              "  </tbody>\n",
              "</table>\n",
              "</div>"
            ],
            "text/plain": [
              "   Pos 1  Pos 2  Pos 3  Pos 4  Pos 5  Pos 6  Pos 7  Pos 8  Pos 9  Pos 10\n",
              "0                                                                       \n",
              "A      0      0      0      1      1      1      0      0      0       0\n",
              "B      1      0      0      0      1      0      1      0      1       0\n",
              "C      0      0      0      0      1      1      0      0      0       0\n",
              "D      1      1      0      0      0      1      1      0      0       1\n",
              "E      1      1      0      1      1      0      0      0      1       1"
            ]
          },
          "metadata": {},
          "execution_count": 9
        }
      ]
    },
    {
      "cell_type": "code",
      "metadata": {
        "id": "gkFGyuoDk53Y"
      },
      "source": [
        "#Conjuntos\n",
        "conjunto_ordenes=datos.index\n",
        "conjunto_posiciones=datos.columns\n",
        "#conjunto_batches=['AA','BB','CC','DD','EE']\n"
      ],
      "execution_count": null,
      "outputs": []
    },
    {
      "cell_type": "code",
      "metadata": {
        "id": "izCH4h4DjeOB"
      },
      "source": [
        "ordenes=datos.shape[0]\n",
        "cardinalidad=datos.shape[1]\n"
      ],
      "execution_count": null,
      "outputs": []
    },
    {
      "cell_type": "code",
      "metadata": {
        "id": "BoRu-x_Hyaxn"
      },
      "source": [
        "def matriz_afj(a_fj):\n",
        "    num=0\n",
        "    for orden in conjunto_ordenes:\n",
        "      a_j={}\n",
        "      for posicion in conjunto_posiciones:\n",
        "        a_j[posicion]=datos[posicion].values[num]\n",
        "      \n",
        "      a_fj[orden]=a_j\n",
        "      num+=1\n",
        "    return a_fj"
      ],
      "execution_count": null,
      "outputs": []
    },
    {
      "cell_type": "code",
      "metadata": {
        "id": "z_9ym5wvTRHU"
      },
      "source": [
        "#Parametros\n",
        "p=ordenes #Numero de ordenes\n",
        "\n",
        "q=3 # cantidad maxima de ordenes que puede contener un batche\n",
        "\n",
        "conjunto_batches=np.arange(1,int(p/q)+2)\n",
        "\n",
        "f_j=cardinalidad #Cardinalidad del conjunto de posiciones \n",
        "\n",
        "a_fj={} \n",
        "a_fj=matriz_afj(a_fj)# 1 si la orden f contiene la posicion j,0 sino."
      ],
      "execution_count": null,
      "outputs": []
    },
    {
      "cell_type": "code",
      "metadata": {
        "id": "BsT6kChFSa2s"
      },
      "source": [
        "modelo=pulp.LpProblem('WarehousingLab2021',LpMinimize)"
      ],
      "execution_count": null,
      "outputs": []
    },
    {
      "cell_type": "code",
      "metadata": {
        "id": "MhGKBuDCTEWL"
      },
      "source": [
        "#Variables\n",
        "x_ij=pulp.LpVariable.dicts('x_ij',[(i,j) for i in conjunto_batches\n",
        "                                         for j in conjunto_posiciones],0,1,cat='Binary') #1 si el batche i contiene la pisicion j, 0 sino.\n",
        "y_if=pulp.LpVariable.dicts('y_if',[(i,f) for i in conjunto_batches\n",
        "                                         for f in conjunto_ordenes],0,1,cat='Binary') #1 si el batche i contiene la orden f, 0 sino.\n"
      ],
      "execution_count": null,
      "outputs": []
    },
    {
      "cell_type": "markdown",
      "metadata": {
        "id": "EG3Ksg_kcyzS"
      },
      "source": [
        "$función$ $Objetivo$"
      ]
    },
    {
      "cell_type": "code",
      "metadata": {
        "id": "wELdZ7Ppcz7s"
      },
      "source": [
        "modelo += lpSum(x_ij[(i,j)] for i in conjunto_batches for j in conjunto_posiciones)\n"
      ],
      "execution_count": null,
      "outputs": []
    },
    {
      "cell_type": "markdown",
      "metadata": {
        "id": "_LvVmrDePV8C"
      },
      "source": [
        "**Restricciones**"
      ]
    },
    {
      "cell_type": "code",
      "metadata": {
        "id": "3bh32cqTgBQa"
      },
      "source": [
        "#Máximo 3 órdenes por batche\n",
        "for i in conjunto_batches:\n",
        "  modelo += lpSum(y_if[(i,f)] for f in conjunto_ordenes) <= q\n",
        "\n",
        "#Debemos cumplir con las órdenes del día\n",
        "modelo += lpSum(y_if[(i,f)] for i in conjunto_batches for f in conjunto_ordenes)==p\n",
        "\n",
        "#Una orden en un solo batche\n",
        "for f in conjunto_ordenes:\n",
        "  modelo += lpSum(y_if[(i,f)] for i in conjunto_batches)==1\n",
        "\n",
        "#Relacion de variables\n",
        "for i in conjunto_batches:\n",
        "  for j in conjunto_posiciones:\n",
        "    modelo += lpSum(a_fj[f][j]*y_if[(i,f)] for f in conjunto_ordenes) <= x_ij[(i,j)]*f_j\n"
      ],
      "execution_count": null,
      "outputs": []
    },
    {
      "cell_type": "code",
      "metadata": {
        "colab": {
          "base_uri": "https://localhost:8080/",
          "height": 35
        },
        "id": "L_z7tWcIfcw2",
        "outputId": "b363acaf-3bdb-4c38-9f86-7b5214038404"
      },
      "source": [
        "modelo.solve()\n",
        "LpStatus[modelo.status]"
      ],
      "execution_count": null,
      "outputs": [
        {
          "output_type": "execute_result",
          "data": {
            "application/vnd.google.colaboratory.intrinsic+json": {
              "type": "string"
            },
            "text/plain": [
              "'Optimal'"
            ]
          },
          "metadata": {},
          "execution_count": 18
        }
      ]
    },
    {
      "cell_type": "code",
      "metadata": {
        "colab": {
          "base_uri": "https://localhost:8080/"
        },
        "id": "C7DPRKvlrFF7",
        "outputId": "ef225bfb-d591-4843-80d3-1e8a9baad26f"
      },
      "source": [
        "pulp.value(modelo.objective )"
      ],
      "execution_count": null,
      "outputs": [
        {
          "output_type": "execute_result",
          "data": {
            "text/plain": [
              "23.0"
            ]
          },
          "metadata": {},
          "execution_count": 19
        }
      ]
    },
    {
      "cell_type": "code",
      "metadata": {
        "colab": {
          "base_uri": "https://localhost:8080/"
        },
        "id": "DIsNGsXnrez_",
        "outputId": "5752537a-7d39-4338-84ed-99e92cf5a812"
      },
      "source": [
        "#Indica en que batche i va la orden  f\n",
        "tol=0.0001\n",
        "for i in conjunto_batches:\n",
        "  for f in conjunto_ordenes:\n",
        "    if y_if[(i,f)].varValue > tol:\n",
        "      print(\"el batche \",i, 'contine la orden ',f )"
      ],
      "execution_count": null,
      "outputs": [
        {
          "output_type": "stream",
          "name": "stdout",
          "text": [
            "el batche  1 contine la orden  I\n",
            "el batche  2 contine la orden  B\n",
            "el batche  2 contine la orden  E\n",
            "el batche  2 contine la orden  G\n",
            "el batche  3 contine la orden  A\n",
            "el batche  3 contine la orden  C\n",
            "el batche  3 contine la orden  F\n",
            "el batche  4 contine la orden  D\n",
            "el batche  4 contine la orden  H\n",
            "el batche  4 contine la orden  J\n"
          ]
        }
      ]
    },
    {
      "cell_type": "code",
      "metadata": {
        "colab": {
          "base_uri": "https://localhost:8080/"
        },
        "id": "-nNSfyc53ovL",
        "outputId": "a03683c3-661a-4755-9238-6e16e19df25b"
      },
      "source": [
        "#Nos dice el batche que posiciones tiene que visitar\n",
        "tol=0.0001\n",
        "for i in conjunto_batches:\n",
        "  for j in conjunto_posiciones:\n",
        "    if x_ij[(i,j)].varValue > tol:\n",
        "      print(\"el batche \",i, 'contine la posicion',j )"
      ],
      "execution_count": null,
      "outputs": [
        {
          "output_type": "stream",
          "name": "stdout",
          "text": [
            "el batche  1 contine la posicion Pos 4\n",
            "el batche  1 contine la posicion Pos 8\n",
            "el batche  2 contine la posicion Pos 1\n",
            "el batche  2 contine la posicion Pos 2\n",
            "el batche  2 contine la posicion Pos 4\n",
            "el batche  2 contine la posicion Pos 5\n",
            "el batche  2 contine la posicion Pos 7\n",
            "el batche  2 contine la posicion Pos 9\n",
            "el batche  2 contine la posicion Pos 10\n",
            "el batche  3 contine la posicion Pos 3\n",
            "el batche  3 contine la posicion Pos 4\n",
            "el batche  3 contine la posicion Pos 5\n",
            "el batche  3 contine la posicion Pos 6\n",
            "el batche  3 contine la posicion Pos 8\n",
            "el batche  3 contine la posicion Pos 9\n",
            "el batche  4 contine la posicion Pos 1\n",
            "el batche  4 contine la posicion Pos 2\n",
            "el batche  4 contine la posicion Pos 4\n",
            "el batche  4 contine la posicion Pos 6\n",
            "el batche  4 contine la posicion Pos 7\n",
            "el batche  4 contine la posicion Pos 8\n",
            "el batche  4 contine la posicion Pos 9\n",
            "el batche  4 contine la posicion Pos 10\n"
          ]
        }
      ]
    },
    {
      "cell_type": "code",
      "metadata": {
        "colab": {
          "base_uri": "https://localhost:8080/"
        },
        "id": "-zL48soAW-o4",
        "outputId": "2e4e857f-8590-4728-e3c3-5bebeb9da764"
      },
      "source": [
        "#Numero de veces que se visita una posición\n",
        "vis_posiciones={}\n",
        "tol=0.0001\n",
        "for i in conjunto_batches:\n",
        "  for j in conjunto_posiciones:\n",
        "    if x_ij[(i,j)].varValue > tol:\n",
        "      if j in conjunto_posiciones and j not in vis_posiciones.keys():\n",
        "        vis_posiciones[j]= 1\n",
        "      elif j in vis_posiciones.keys():\n",
        "        vis_posiciones[j] += 1\n",
        "\n",
        "for posicion in vis_posiciones.keys():\n",
        "  print(f'La posicion {posicion} fue visitada {vis_posiciones[posicion]} veces')\n"
      ],
      "execution_count": null,
      "outputs": [
        {
          "output_type": "stream",
          "name": "stdout",
          "text": [
            "La posicion Pos 4 fue visitada 4 veces\n",
            "La posicion Pos 8 fue visitada 3 veces\n",
            "La posicion Pos 1 fue visitada 2 veces\n",
            "La posicion Pos 2 fue visitada 2 veces\n",
            "La posicion Pos 5 fue visitada 2 veces\n",
            "La posicion Pos 7 fue visitada 2 veces\n",
            "La posicion Pos 9 fue visitada 3 veces\n",
            "La posicion Pos 10 fue visitada 2 veces\n",
            "La posicion Pos 3 fue visitada 1 veces\n",
            "La posicion Pos 6 fue visitada 2 veces\n"
          ]
        }
      ]
    },
    {
      "cell_type": "code",
      "metadata": {
        "colab": {
          "base_uri": "https://localhost:8080/"
        },
        "id": "R78SGgXlcGNm",
        "outputId": "a3af3e71-00e2-4ecd-a56a-d47ee312fc8f"
      },
      "source": [
        ""
      ],
      "execution_count": null,
      "outputs": [
        {
          "output_type": "execute_result",
          "data": {
            "text/plain": [
              "23"
            ]
          },
          "metadata": {},
          "execution_count": 34
        }
      ]
    }
  ]
}