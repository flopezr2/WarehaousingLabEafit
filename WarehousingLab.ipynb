{
  "nbformat": 4,
  "nbformat_minor": 0,
  "metadata": {
    "colab": {
      "name": "WarehousingLab",
      "provenance": [],
      "authorship_tag": "ABX9TyN9YE29d1o+p+URJv7KYEyt",
      "include_colab_link": true
    },
    "kernelspec": {
      "name": "python3",
      "display_name": "Python 3"
    },
    "language_info": {
      "name": "python"
    }
  },
  "cells": [
    {
      "cell_type": "markdown",
      "metadata": {
        "id": "view-in-github",
        "colab_type": "text"
      },
      "source": [
        "<a href=\"https://colab.research.google.com/github/flopezr2/WarehaousingLabEafit/blob/jueves28102021/WarehousingLab.ipynb\" target=\"_parent\"><img src=\"https://colab.research.google.com/assets/colab-badge.svg\" alt=\"Open In Colab\"/></a>"
      ]
    },
    {
      "cell_type": "code",
      "metadata": {
        "colab": {
          "base_uri": "https://localhost:8080/"
        },
        "id": "7ws1hcNLSPLB",
        "outputId": "43fb9c0e-20f2-428c-f930-de594f46e912"
      },
      "source": [
        "pip install pulp"
      ],
      "execution_count": 1,
      "outputs": [
        {
          "output_type": "stream",
          "name": "stdout",
          "text": [
            "Collecting pulp\n",
            "  Downloading PuLP-2.5.1-py3-none-any.whl (41.2 MB)\n",
            "\u001b[K     |████████████████████████████████| 41.2 MB 76 kB/s \n",
            "\u001b[?25hInstalling collected packages: pulp\n",
            "Successfully installed pulp-2.5.1\n"
          ]
        }
      ]
    },
    {
      "cell_type": "code",
      "metadata": {
        "id": "pZ8usaQiSUAW"
      },
      "source": [
        "import pulp as pulp\n",
        "import pandas as pd\n",
        "from pulp import *\n",
        "import numpy as np"
      ],
      "execution_count": 21,
      "outputs": []
    },
    {
      "cell_type": "code",
      "metadata": {
        "id": "r8siu4t-gX4B"
      },
      "source": [
        "datos=pd.read_excel('Prueba_datos.xlsx',header=None,index_col=0)\n"
      ],
      "execution_count": 5,
      "outputs": []
    },
    {
      "cell_type": "code",
      "metadata": {
        "id": "fFFwD4WGlh2J"
      },
      "source": [
        "nom_posicion=[]\n",
        "for i in range(1,datos.shape[1]+1):\n",
        "  nombre= ('Pos ' + str(i))\n",
        "  nom_posicion.append(nombre) \n",
        "datos.set_axis(nom_posicion,axis=1,inplace=True)"
      ],
      "execution_count": 6,
      "outputs": []
    },
    {
      "cell_type": "code",
      "metadata": {
        "colab": {
          "base_uri": "https://localhost:8080/",
          "height": 235
        },
        "id": "mJUkmF9YmKcZ",
        "outputId": "01453439-2d55-4bbb-ac4f-de6f9a114779"
      },
      "source": [
        "datos.head()"
      ],
      "execution_count": 7,
      "outputs": [
        {
          "output_type": "execute_result",
          "data": {
            "text/html": [
              "<div>\n",
              "<style scoped>\n",
              "    .dataframe tbody tr th:only-of-type {\n",
              "        vertical-align: middle;\n",
              "    }\n",
              "\n",
              "    .dataframe tbody tr th {\n",
              "        vertical-align: top;\n",
              "    }\n",
              "\n",
              "    .dataframe thead th {\n",
              "        text-align: right;\n",
              "    }\n",
              "</style>\n",
              "<table border=\"1\" class=\"dataframe\">\n",
              "  <thead>\n",
              "    <tr style=\"text-align: right;\">\n",
              "      <th></th>\n",
              "      <th>Pos 1</th>\n",
              "      <th>Pos 2</th>\n",
              "      <th>Pos 3</th>\n",
              "      <th>Pos 4</th>\n",
              "      <th>Pos 5</th>\n",
              "      <th>Pos 6</th>\n",
              "      <th>Pos 7</th>\n",
              "      <th>Pos 8</th>\n",
              "      <th>Pos 9</th>\n",
              "      <th>Pos 10</th>\n",
              "    </tr>\n",
              "    <tr>\n",
              "      <th>0</th>\n",
              "      <th></th>\n",
              "      <th></th>\n",
              "      <th></th>\n",
              "      <th></th>\n",
              "      <th></th>\n",
              "      <th></th>\n",
              "      <th></th>\n",
              "      <th></th>\n",
              "      <th></th>\n",
              "      <th></th>\n",
              "    </tr>\n",
              "  </thead>\n",
              "  <tbody>\n",
              "    <tr>\n",
              "      <th>A</th>\n",
              "      <td>0</td>\n",
              "      <td>0</td>\n",
              "      <td>0</td>\n",
              "      <td>1</td>\n",
              "      <td>1</td>\n",
              "      <td>1</td>\n",
              "      <td>0</td>\n",
              "      <td>0</td>\n",
              "      <td>0</td>\n",
              "      <td>0</td>\n",
              "    </tr>\n",
              "    <tr>\n",
              "      <th>B</th>\n",
              "      <td>1</td>\n",
              "      <td>0</td>\n",
              "      <td>0</td>\n",
              "      <td>0</td>\n",
              "      <td>1</td>\n",
              "      <td>0</td>\n",
              "      <td>1</td>\n",
              "      <td>0</td>\n",
              "      <td>1</td>\n",
              "      <td>0</td>\n",
              "    </tr>\n",
              "    <tr>\n",
              "      <th>C</th>\n",
              "      <td>0</td>\n",
              "      <td>0</td>\n",
              "      <td>0</td>\n",
              "      <td>0</td>\n",
              "      <td>1</td>\n",
              "      <td>1</td>\n",
              "      <td>0</td>\n",
              "      <td>0</td>\n",
              "      <td>0</td>\n",
              "      <td>0</td>\n",
              "    </tr>\n",
              "    <tr>\n",
              "      <th>D</th>\n",
              "      <td>1</td>\n",
              "      <td>1</td>\n",
              "      <td>0</td>\n",
              "      <td>0</td>\n",
              "      <td>0</td>\n",
              "      <td>1</td>\n",
              "      <td>1</td>\n",
              "      <td>0</td>\n",
              "      <td>0</td>\n",
              "      <td>1</td>\n",
              "    </tr>\n",
              "    <tr>\n",
              "      <th>E</th>\n",
              "      <td>1</td>\n",
              "      <td>1</td>\n",
              "      <td>0</td>\n",
              "      <td>1</td>\n",
              "      <td>1</td>\n",
              "      <td>0</td>\n",
              "      <td>0</td>\n",
              "      <td>0</td>\n",
              "      <td>1</td>\n",
              "      <td>1</td>\n",
              "    </tr>\n",
              "  </tbody>\n",
              "</table>\n",
              "</div>"
            ],
            "text/plain": [
              "   Pos 1  Pos 2  Pos 3  Pos 4  Pos 5  Pos 6  Pos 7  Pos 8  Pos 9  Pos 10\n",
              "0                                                                       \n",
              "A      0      0      0      1      1      1      0      0      0       0\n",
              "B      1      0      0      0      1      0      1      0      1       0\n",
              "C      0      0      0      0      1      1      0      0      0       0\n",
              "D      1      1      0      0      0      1      1      0      0       1\n",
              "E      1      1      0      1      1      0      0      0      1       1"
            ]
          },
          "metadata": {},
          "execution_count": 7
        }
      ]
    },
    {
      "cell_type": "code",
      "metadata": {
        "id": "gkFGyuoDk53Y"
      },
      "source": [
        "#Conjuntos\n",
        "conjunto_ordenes=datos.index\n",
        "conjunto_posiciones=datos.columns\n",
        "#conjunto_batches=['AA','BB','CC','DD','EE']\n"
      ],
      "execution_count": 8,
      "outputs": []
    },
    {
      "cell_type": "code",
      "metadata": {
        "id": "izCH4h4DjeOB"
      },
      "source": [
        "ordenes=datos.shape[0]\n",
        "cardinalidad=datos.shape[1]\n"
      ],
      "execution_count": 9,
      "outputs": []
    },
    {
      "cell_type": "code",
      "metadata": {
        "id": "BoRu-x_Hyaxn"
      },
      "source": [
        "def matriz_afj(a_fj):\n",
        "    num=0\n",
        "    for orden in conjunto_ordenes:\n",
        "      a_j={}\n",
        "      for posicion in conjunto_posiciones:\n",
        "        a_j[posicion]=datos[posicion].values[num]\n",
        "      \n",
        "      a_fj[orden]=a_j\n",
        "      num+=1\n",
        "    return a_fj"
      ],
      "execution_count": 10,
      "outputs": []
    },
    {
      "cell_type": "code",
      "metadata": {
        "id": "z_9ym5wvTRHU"
      },
      "source": [
        "#Parametros\n",
        "p=ordenes #Numero de ordenes\n",
        "\n",
        "q=3 # cantidad maxima de ordenes que puede contener un batche\n",
        "\n",
        "conjunto_batches=np.arange(1,int(p/q)+2)\n",
        "\n",
        "f_j=cardinalidad #Cardinalidad del conjunto de posiciones \n",
        "\n",
        "a_fj={} \n",
        "a_fj=matriz_afj(a_fj)# 1 si la orden f contiene la posicion j,0 sino."
      ],
      "execution_count": 86,
      "outputs": []
    },
    {
      "cell_type": "code",
      "metadata": {
        "id": "BsT6kChFSa2s"
      },
      "source": [
        "modelo=pulp.LpProblem('WarehousingLab2021',LpMinimize)"
      ],
      "execution_count": 88,
      "outputs": []
    },
    {
      "cell_type": "code",
      "metadata": {
        "id": "MhGKBuDCTEWL"
      },
      "source": [
        "#Variables\n",
        "x_ij=pulp.LpVariable.dicts('x_ij',[(i,j) for i in conjunto_batches\n",
        "                                         for j in conjunto_posiciones],0,1,cat='Binary') #1 si el batche i contiene la pisicion j, 0 sino.\n",
        "y_if=pulp.LpVariable.dicts('y_if',[(i,f) for i in conjunto_batches\n",
        "                                         for f in conjunto_ordenes],0,1,cat='Binary') #1 si el batche i contiene la orden f, 0 sino.\n"
      ],
      "execution_count": 89,
      "outputs": []
    },
    {
      "cell_type": "markdown",
      "metadata": {
        "id": "EG3Ksg_kcyzS"
      },
      "source": [
        "$función$ $Objetivo$"
      ]
    },
    {
      "cell_type": "code",
      "metadata": {
        "id": "wELdZ7Ppcz7s"
      },
      "source": [
        "modelo += lpSum(x_ij[(i,j)] for i in conjunto_batches for j in conjunto_posiciones)\n"
      ],
      "execution_count": 90,
      "outputs": []
    },
    {
      "cell_type": "markdown",
      "metadata": {
        "id": "_LvVmrDePV8C"
      },
      "source": [
        "**Restricciones**"
      ]
    },
    {
      "cell_type": "code",
      "metadata": {
        "id": "3bh32cqTgBQa"
      },
      "source": [
        "#Máximo 3 órdenes por batche\n",
        "for i in conjunto_batches:\n",
        "  modelo += lpSum(y_if[(i,f)] for f in conjunto_ordenes) <= q\n",
        "\n",
        "#Debemos cumplir con las órdenes del día\n",
        "modelo += lpSum(y_if[(i,f)] for i in conjunto_batches for f in conjunto_ordenes)==p\n",
        "\n",
        "#Una orden en un solo batche\n",
        "for f in conjunto_ordenes:\n",
        "  modelo += lpSum(y_if[(i,f)] for i in conjunto_batches)==1\n",
        "\n",
        "#Relacion de variables\n",
        "for i in conjunto_batches:\n",
        "  for j in conjunto_posiciones:\n",
        "    modelo += lpSum(a_fj[f][j]*y_if[(i,f)] for f in conjunto_ordenes) <= x_ij[(i,j)]*f_j\n"
      ],
      "execution_count": 91,
      "outputs": []
    },
    {
      "cell_type": "code",
      "metadata": {
        "colab": {
          "base_uri": "https://localhost:8080/",
          "height": 35
        },
        "id": "L_z7tWcIfcw2",
        "outputId": "17f25ee0-b77c-43f6-9198-139b2cdcebfc"
      },
      "source": [
        "modelo.solve()\n",
        "LpStatus[modelo.status]"
      ],
      "execution_count": 92,
      "outputs": [
        {
          "output_type": "execute_result",
          "data": {
            "application/vnd.google.colaboratory.intrinsic+json": {
              "type": "string"
            },
            "text/plain": [
              "'Optimal'"
            ]
          },
          "metadata": {},
          "execution_count": 92
        }
      ]
    },
    {
      "cell_type": "code",
      "metadata": {
        "colab": {
          "base_uri": "https://localhost:8080/"
        },
        "id": "C7DPRKvlrFF7",
        "outputId": "b86b88dc-2b8b-4369-d760-cd4eb78eeedc"
      },
      "source": [
        "pulp.value(modelo.objective )"
      ],
      "execution_count": 93,
      "outputs": [
        {
          "output_type": "execute_result",
          "data": {
            "text/plain": [
              "23.0"
            ]
          },
          "metadata": {},
          "execution_count": 93
        }
      ]
    },
    {
      "cell_type": "code",
      "metadata": {
        "colab": {
          "base_uri": "https://localhost:8080/"
        },
        "id": "DIsNGsXnrez_",
        "outputId": "04965a22-07a9-4904-c049-81c573b3f709"
      },
      "source": [
        "tol=0.0001\n",
        "for i in conjunto_batches:\n",
        "  for f in conjunto_ordenes:\n",
        "    if y_if[(i,f)].varValue > tol:\n",
        "      print(\"el batche \",i, 'contine la orden ',f )"
      ],
      "execution_count": 94,
      "outputs": [
        {
          "output_type": "stream",
          "name": "stdout",
          "text": [
            "el batche  1 contine la orden  I\n",
            "el batche  2 contine la orden  B\n",
            "el batche  2 contine la orden  E\n",
            "el batche  2 contine la orden  G\n",
            "el batche  3 contine la orden  A\n",
            "el batche  3 contine la orden  C\n",
            "el batche  3 contine la orden  F\n",
            "el batche  4 contine la orden  D\n",
            "el batche  4 contine la orden  H\n",
            "el batche  4 contine la orden  J\n"
          ]
        }
      ]
    },
    {
      "cell_type": "code",
      "metadata": {
        "colab": {
          "base_uri": "https://localhost:8080/"
        },
        "id": "-nNSfyc53ovL",
        "outputId": "66ea5255-89c7-44da-ce36-15c15c103d45"
      },
      "source": [
        "tol=0.0001\n",
        "for i in conjunto_batches:\n",
        "  for j in conjunto_posiciones:\n",
        "    if x_ij[(i,j)].varValue > tol:\n",
        "      print(\"el batche \",i, 'contine la posicion',j )"
      ],
      "execution_count": 95,
      "outputs": [
        {
          "output_type": "stream",
          "name": "stdout",
          "text": [
            "el batche  1 contine la posicion Pos 4\n",
            "el batche  1 contine la posicion Pos 8\n",
            "el batche  2 contine la posicion Pos 1\n",
            "el batche  2 contine la posicion Pos 2\n",
            "el batche  2 contine la posicion Pos 4\n",
            "el batche  2 contine la posicion Pos 5\n",
            "el batche  2 contine la posicion Pos 7\n",
            "el batche  2 contine la posicion Pos 9\n",
            "el batche  2 contine la posicion Pos 10\n",
            "el batche  3 contine la posicion Pos 3\n",
            "el batche  3 contine la posicion Pos 4\n",
            "el batche  3 contine la posicion Pos 5\n",
            "el batche  3 contine la posicion Pos 6\n",
            "el batche  3 contine la posicion Pos 8\n",
            "el batche  3 contine la posicion Pos 9\n",
            "el batche  4 contine la posicion Pos 1\n",
            "el batche  4 contine la posicion Pos 2\n",
            "el batche  4 contine la posicion Pos 4\n",
            "el batche  4 contine la posicion Pos 6\n",
            "el batche  4 contine la posicion Pos 7\n",
            "el batche  4 contine la posicion Pos 8\n",
            "el batche  4 contine la posicion Pos 9\n",
            "el batche  4 contine la posicion Pos 10\n"
          ]
        }
      ]
    }
  ]
}